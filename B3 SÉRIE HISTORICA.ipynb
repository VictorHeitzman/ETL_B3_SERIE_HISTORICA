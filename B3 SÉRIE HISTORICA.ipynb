{
 "cells": [
  {
   "cell_type": "code",
   "execution_count": 2,
   "metadata": {},
   "outputs": [],
   "source": [
    "#Importando biblíoteca\n",
    "import pandas as pd"
   ]
  },
  {
   "cell_type": "code",
   "execution_count": 3,
   "metadata": {},
   "outputs": [],
   "source": [
    "def read_file(path, name, date_file, type):\n",
    "    \n",
    "    _file = f'{path}{name}{date_file}.{type}'\n",
    "    \n",
    "    colspecs = [(2, 10),\n",
    "                (10, 12),\n",
    "                (12, 24),\n",
    "                (27, 39),\n",
    "                (56, 69),\n",
    "                (69, 82),\n",
    "                (82, 95),\n",
    "                (108, 121),\n",
    "                (152, 170),\n",
    "                (170, 188)\n",
    "        ]\n",
    "\n",
    "    names = ['data_pregao', 'codbdi', 'sigla_acao', 'nome_acao', 'preco_abertura',\n",
    "            'preco_max', 'preco_min', 'preco_fechamento', 'qtd_negocio', 'volume_negocio']\n",
    "    df = pd.read_fwf(_file, colspecs=colspecs, names=names, skiprows =1)\n",
    "    \n",
    "    return df"
   ]
  },
  {
   "cell_type": "code",
   "execution_count": 4,
   "metadata": {},
   "outputs": [],
   "source": [
    "def filter_stocks(df):\n",
    "    df = df[df['codbdi'] == 2]\n",
    "    df = df.drop(['codbdi'], 1)\n",
    "    \n",
    "    return df"
   ]
  },
  {
   "cell_type": "code",
   "execution_count": 5,
   "metadata": {},
   "outputs": [],
   "source": [
    "def format_values(df):\n",
    "    df['preco_abertura'] = (df['preco_abertura']/100).astype(float)\n",
    "    df['preco_fechamento'] = (df['preco_fechamento']/100).astype(float)\n",
    "    df['preco_max'] = (df['preco_max']/100).astype(float)\n",
    "    df['preco_min'] = (df['preco_min']/100).astype(float)\n",
    "    df['qtd_negocio'] = (df['qtd_negocio']).astype('Int64')\n",
    "    df['volume_negocio'] = (df['volume_negocio']).astype('int64',)\n",
    "    df['data_pregao'] = (df['data_pregao']).astype('datetime64[ns]')\n",
    "\n",
    "    return df"
   ]
  },
  {
   "cell_type": "code",
   "execution_count": 6,
   "metadata": {},
   "outputs": [],
   "source": [
    "def concat_files(path, name_file, year_date, type_file, final_file):\n",
    "\n",
    "    for i, y in enumerate (year_date):\n",
    "        df = read_file(path, name_file, y, type_file)\n",
    "        df = filter_stocks(df)\n",
    "        df = format_values(df)\n",
    "\n",
    "        if i==0:\n",
    "            df_final = df\n",
    "        else:\n",
    "            df_final = pd.concat([df_final,df])\n",
    "    \n",
    "    df_final.to_csv(f'{path}//{final_file}', index=False)"
   ]
  },
  {
   "cell_type": "code",
   "execution_count": null,
   "metadata": {},
   "outputs": [],
   "source": [
    "# Executando programa ETL\n",
    "path = f'D:\\Documentos\\cursos_projetos\\projetos\\Projeto_Python\\ETL_B3_SÉRIE_HISTORICA\\\\'\n",
    "\n",
    "name_file = f'COTAHIST_A'\n",
    "\n",
    "year_date = ['2022', '2023']\n",
    "\n",
    "type_file = f'txt'\n",
    "\n",
    "final_file = 'all_bovespa.csv'\n",
    "\n",
    "concat_files(path, name_file, year_date, type_file, final_file)"
   ]
  }
 ],
 "metadata": {
  "kernelspec": {
   "display_name": "Python 3",
   "language": "python",
   "name": "python3"
  },
  "language_info": {
   "codemirror_mode": {
    "name": "ipython",
    "version": 3
   },
   "file_extension": ".py",
   "mimetype": "text/x-python",
   "name": "python",
   "nbconvert_exporter": "python",
   "pygments_lexer": "ipython3",
   "version": "3.9.13"
  },
  "orig_nbformat": 4
 },
 "nbformat": 4,
 "nbformat_minor": 2
}
